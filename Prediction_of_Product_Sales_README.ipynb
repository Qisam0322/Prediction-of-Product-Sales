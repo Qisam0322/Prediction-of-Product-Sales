{
  "nbformat": 4,
  "nbformat_minor": 0,
  "metadata": {
    "colab": {
      "provenance": [],
      "authorship_tag": "ABX9TyOIB6Rm/Ml6z5teeAtutPIk",
      "include_colab_link": true
    },
    "kernelspec": {
      "name": "python3",
      "display_name": "Python 3"
    },
    "language_info": {
      "name": "python"
    }
  },
  "cells": [
    {
      "cell_type": "markdown",
      "metadata": {
        "id": "view-in-github",
        "colab_type": "text"
      },
      "source": [
        "<a href=\"https://colab.research.google.com/github/Qisam0322/Prediction-of-Product-Sales/blob/main/Prediction_of_Product_Sales_README.ipynb\" target=\"_parent\"><img src=\"https://colab.research.google.com/assets/colab-badge.svg\" alt=\"Open In Colab\"/></a>"
      ]
    },
    {
      "cell_type": "markdown",
      "source": [
        "# Prediction of Product Sales"
      ],
      "metadata": {
        "id": "oE0BQp5oRTti"
      }
    },
    {
      "cell_type": "markdown",
      "source": [
        "- Author: Sam Qi"
      ],
      "metadata": {
        "id": "MLHScX99RlE_"
      }
    },
    {
      "cell_type": "markdown",
      "source": [
        "## Project Overview"
      ],
      "metadata": {
        "id": "9DjT8KG7RoHw"
      }
    },
    {
      "cell_type": "markdown",
      "source": [],
      "metadata": {
        "id": "glTxfDzdSR4L"
      }
    },
    {
      "cell_type": "markdown",
      "source": [
        "## Load and Inspect Data"
      ],
      "metadata": {
        "id": "8Q3n6UtVRvKV"
      }
    },
    {
      "cell_type": "code",
      "source": [],
      "metadata": {
        "id": "w24wiRonSll4"
      },
      "execution_count": null,
      "outputs": []
    },
    {
      "cell_type": "markdown",
      "source": [
        "## Clean Data"
      ],
      "metadata": {
        "id": "MMC7QHhHRzzK"
      }
    },
    {
      "cell_type": "code",
      "source": [],
      "metadata": {
        "id": "bqh11yGaSnoG"
      },
      "execution_count": null,
      "outputs": []
    },
    {
      "cell_type": "markdown",
      "source": [
        "## Exploratory Data Analysis"
      ],
      "metadata": {
        "id": "sYwgcg-bR3kU"
      }
    },
    {
      "cell_type": "code",
      "source": [],
      "metadata": {
        "id": "Zy2jM8jjSpSX"
      },
      "execution_count": null,
      "outputs": []
    },
    {
      "cell_type": "markdown",
      "source": [
        "## Feature Inspection"
      ],
      "metadata": {
        "id": "LYIYdbOFR77e"
      }
    },
    {
      "cell_type": "code",
      "source": [],
      "metadata": {
        "id": "jP771Q8DSqui"
      },
      "execution_count": null,
      "outputs": []
    }
  ]
}